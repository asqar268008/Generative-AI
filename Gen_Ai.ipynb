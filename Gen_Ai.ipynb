{
  "nbformat": 4,
  "nbformat_minor": 0,
  "metadata": {
    "colab": {
      "provenance": []
    },
    "kernelspec": {
      "name": "python3",
      "display_name": "Python 3"
    },
    "language_info": {
      "name": "python"
    }
  },
  "cells": [
    {
      "cell_type": "code",
      "execution_count": null,
      "metadata": {
        "colab": {
          "base_uri": "https://localhost:8080/"
        },
        "id": "AUqOS1VjVTh1",
        "outputId": "9969d5c8-6fc5-40b5-8895-bedda518cfa6"
      },
      "outputs": [
        {
          "output_type": "stream",
          "name": "stdout",
          "text": [
            "Collecting groq\n",
            "  Downloading groq-0.11.0-py3-none-any.whl.metadata (13 kB)\n",
            "Requirement already satisfied: anyio<5,>=3.5.0 in /usr/local/lib/python3.10/dist-packages (from groq) (3.7.1)\n",
            "Requirement already satisfied: distro<2,>=1.7.0 in /usr/lib/python3/dist-packages (from groq) (1.7.0)\n",
            "Collecting httpx<1,>=0.23.0 (from groq)\n",
            "  Downloading httpx-0.27.2-py3-none-any.whl.metadata (7.1 kB)\n",
            "Requirement already satisfied: pydantic<3,>=1.9.0 in /usr/local/lib/python3.10/dist-packages (from groq) (2.9.2)\n",
            "Requirement already satisfied: sniffio in /usr/local/lib/python3.10/dist-packages (from groq) (1.3.1)\n",
            "Requirement already satisfied: typing-extensions<5,>=4.7 in /usr/local/lib/python3.10/dist-packages (from groq) (4.12.2)\n",
            "Requirement already satisfied: idna>=2.8 in /usr/local/lib/python3.10/dist-packages (from anyio<5,>=3.5.0->groq) (3.10)\n",
            "Requirement already satisfied: exceptiongroup in /usr/local/lib/python3.10/dist-packages (from anyio<5,>=3.5.0->groq) (1.2.2)\n",
            "Requirement already satisfied: certifi in /usr/local/lib/python3.10/dist-packages (from httpx<1,>=0.23.0->groq) (2024.8.30)\n",
            "Collecting httpcore==1.* (from httpx<1,>=0.23.0->groq)\n",
            "  Downloading httpcore-1.0.6-py3-none-any.whl.metadata (21 kB)\n",
            "Collecting h11<0.15,>=0.13 (from httpcore==1.*->httpx<1,>=0.23.0->groq)\n",
            "  Downloading h11-0.14.0-py3-none-any.whl.metadata (8.2 kB)\n",
            "Requirement already satisfied: annotated-types>=0.6.0 in /usr/local/lib/python3.10/dist-packages (from pydantic<3,>=1.9.0->groq) (0.7.0)\n",
            "Requirement already satisfied: pydantic-core==2.23.4 in /usr/local/lib/python3.10/dist-packages (from pydantic<3,>=1.9.0->groq) (2.23.4)\n",
            "Downloading groq-0.11.0-py3-none-any.whl (106 kB)\n",
            "\u001b[2K   \u001b[90m━━━━━━━━━━━━━━━━━━━━━━━━━━━━━━━━━━━━━━━━\u001b[0m \u001b[32m106.5/106.5 kB\u001b[0m \u001b[31m3.1 MB/s\u001b[0m eta \u001b[36m0:00:00\u001b[0m\n",
            "\u001b[?25hDownloading httpx-0.27.2-py3-none-any.whl (76 kB)\n",
            "\u001b[2K   \u001b[90m━━━━━━━━━━━━━━━━━━━━━━━━━━━━━━━━━━━━━━━━\u001b[0m \u001b[32m76.4/76.4 kB\u001b[0m \u001b[31m2.4 MB/s\u001b[0m eta \u001b[36m0:00:00\u001b[0m\n",
            "\u001b[?25hDownloading httpcore-1.0.6-py3-none-any.whl (78 kB)\n",
            "\u001b[2K   \u001b[90m━━━━━━━━━━━━━━━━━━━━━━━━━━━━━━━━━━━━━━━━\u001b[0m \u001b[32m78.0/78.0 kB\u001b[0m \u001b[31m3.7 MB/s\u001b[0m eta \u001b[36m0:00:00\u001b[0m\n",
            "\u001b[?25hDownloading h11-0.14.0-py3-none-any.whl (58 kB)\n",
            "\u001b[2K   \u001b[90m━━━━━━━━━━━━━━━━━━━━━━━━━━━━━━━━━━━━━━━━\u001b[0m \u001b[32m58.3/58.3 kB\u001b[0m \u001b[31m2.7 MB/s\u001b[0m eta \u001b[36m0:00:00\u001b[0m\n",
            "\u001b[?25hInstalling collected packages: h11, httpcore, httpx, groq\n",
            "Successfully installed groq-0.11.0 h11-0.14.0 httpcore-1.0.6 httpx-0.27.2\n"
          ]
        }
      ],
      "source": [
        "pip install groq\n"
      ]
    },
    {
      "cell_type": "code",
      "source": [
        "import os\n",
        "\n",
        "os.environ['GROQ_API_KEY'] = 'Enetr a Valid API key'\n",
        "\n"
      ],
      "metadata": {
        "id": "d1Xg7jaWdFsb"
      },
      "execution_count": null,
      "outputs": []
    },
    {
      "cell_type": "code",
      "source": [
        "import os\n",
        "\n",
        "from groq import Groq\n",
        "\n",
        "client = Groq(\n",
        "    api_key=os.environ.get(\"GROQ_API_KEY\"),\n",
        ")\n",
        "\n",
        "chat_completion = client.chat.completions.create(\n",
        "    messages=[\n",
        "        {\n",
        "            \"role\": \"user\",\n",
        "            \"content\": \"Explain the Artificial Intelligent\",\n",
        "        }\n",
        "    ],\n",
        "    model=\"llama3-8b-8192\",\n",
        ")\n",
        "\n",
        "print(chat_completion.choices[0].message.content)"
      ],
      "metadata": {
        "colab": {
          "base_uri": "https://localhost:8080/"
        },
        "id": "JUDGLMhwXkFE",
        "outputId": "f96dd5fd-5492-47f9-f263-596dc778edf4"
      },
      "execution_count": null,
      "outputs": [
        {
          "output_type": "stream",
          "name": "stdout",
          "text": [
            "Artificial Intelligence (AI) refers to the development of computer systems that can perform tasks that would typically require human intelligence, such as:\n",
            "\n",
            "1. **Learning**: AI systems can learn from data and adapt to new situations.\n",
            "2. **Problem-solving**: AI systems can analyze problems, identify patterns, and make decisions.\n",
            "3. **Perception**: AI systems can interpret and understand data from sensors, such as images, speech, and text.\n",
            "4. **Reasoning**: AI systems can use logic and rules to draw conclusions and make predictions.\n",
            "\n",
            "There are many types of Artificial Intelligence, including:\n",
            "\n",
            "**Narrow or Weak AI**: Designed to perform a specific task, such as:\n",
            "\n",
            "1. **Virtual Assistants**: Apple's Siri, Amazon's Alexa, and Google's Assistant.\n",
            "2. **Image Recognition**: Facebook's facial recognition, Google's image labeling.\n",
            "3. **Speech Recognition**: Apple's Dictation, Google's Voice Typing.\n",
            "\n",
            "**General or Strong AI**: Designed to mimic human intelligence, able to:\n",
            "\n",
            "1. **Understand**: Understanding the world around it, including emotions and common sense.\n",
            "2. **Learn**: Learning from experience, making connections, and making decisions.\n",
            "\n",
            "**Types of AI**:\n",
            "\n",
            "1. **Machine Learning** (ML): AI that can learn from data without being explicitly programmed.\n",
            "2. **Deep Learning** (DL): A subfield of ML that uses neural networks to analyze data.\n",
            "3. **Natural Language Processing** (NLP): AI that can understand, generate, and process human language.\n",
            "4. **Robotics**: AI that controls and interacts with physical devices, such as robots.\n",
            "\n",
            "**AI applications**:\n",
            "\n",
            "1. **Healthcare**: AI-powered diagnosis, treatment planning, and patient monitoring.\n",
            "2. **Finance**: AI-powered trading, risk analysis, and customer service.\n",
            "3. **Manufacturing**: AI-powered automation, quality control, and supply chain management.\n",
            "4. **Transportation**: AI-powered self-driving cars, traffic management, and logistics.\n",
            "\n",
            "**Benefits of AI**:\n",
            "\n",
            "1. **Increased Efficiency**: AI can automate repetitive tasks, freeing up human workers.\n",
            "2. **Improved Accuracy**: AI can perform tasks more accurately and consistently than humans.\n",
            "3. **New Insights**: AI can analyze large datasets to uncover patterns and trends.\n",
            "4. **Enhanced Customer Experience**: AI-powered chatbots and virtual assistants can provide personalized support.\n",
            "\n",
            "**Challenges and Concerns**:\n",
            "\n",
            "1. **Job Displacement**: AI may displace certain jobs, requiring workers to adapt to new roles.\n",
            "2. **Bias and Unfairness**: AI systems can perpetuate biases and unfairness if trained on biased data.\n",
            "3. **Data Quality**: AI systems require high-quality data to function accurately.\n",
            "4. **Explainability**: AI systems can be difficult to explain and understand, leading to mistrust.\n",
            "\n",
            "As AI continues to evolve, it is essential to address these challenges and concerns to ensure a safe and beneficial integration of AI into our daily lives.\n"
          ]
        }
      ]
    }
  ]
}
